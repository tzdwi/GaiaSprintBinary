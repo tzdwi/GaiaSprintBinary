{
 "cells": [
  {
   "cell_type": "markdown",
   "metadata": {},
   "source": [
    "## It's the last day of the Gaia sprint!"
   ]
  },
  {
   "cell_type": "code",
   "execution_count": 8,
   "metadata": {
    "collapsed": true
   },
   "outputs": [],
   "source": [
    "from astropy.io import fits\n",
    "from astropy.table import Table\n",
    "import pandas as pd\n",
    "import numpy as np\n",
    "import matplotlib.pyplot as plt\n",
    "from matplotlib.backends.backend_pdf import PdfPages\n",
    "# %matplotlib notebook"
   ]
  },
  {
   "cell_type": "code",
   "execution_count": 2,
   "metadata": {},
   "outputs": [],
   "source": [
    "import apogee.tools.read as apread\n",
    "from apogee.tools import apStarWavegrid"
   ]
  },
  {
   "cell_type": "code",
   "execution_count": 3,
   "metadata": {},
   "outputs": [
    {
     "data": {
      "text/plain": [
       "array([ 15100.80154164,  15101.01016837,  15101.21879797, ...,\n",
       "        16999.33764336,  16999.57249951,  16999.80735891])"
      ]
     },
     "execution_count": 3,
     "metadata": {},
     "output_type": "execute_result"
    }
   ],
   "source": [
    "apStarWavegrid()"
   ]
  },
  {
   "cell_type": "code",
   "execution_count": 4,
   "metadata": {
    "collapsed": true
   },
   "outputs": [],
   "source": [
    "apmatch = pd.read_csv('apogee_gaia_rvcut.csv')"
   ]
  },
  {
   "cell_type": "code",
   "execution_count": 14,
   "metadata": {},
   "outputs": [
    {
     "name": "stdout",
     "output_type": "stream",
     "text": [
      "                                                                                \r"
     ]
    }
   ],
   "source": [
    "with PdfPages('specplot_apmatch.pdf') as pdf:\n",
    "    for fidx in np.arange(0, len(apmatch['APOGEE_ID']), 25):\n",
    "        fig = plt.figure(figsize=(10,7))\n",
    "        ax = fig.add_subplot(111)\n",
    "        # Turn off axis lines and ticks of the big subplot\n",
    "        ax.spines['top'].set_color('none')\n",
    "        ax.spines['bottom'].set_color('none')\n",
    "        ax.spines['left'].set_color('none')\n",
    "        ax.spines['right'].set_color('none')\n",
    "        for idx, (loc_id, apogee_id) in enumerate(zip(apmatch['LOCATION_ID'][fidx:fidx+25], apmatch['APOGEE_ID'][fidx:fidx+25])):\n",
    "            try:\n",
    "                spec, hdr = apread.apStar(loc_id, apogee_id, ext=1)\n",
    "            except OSError:  # usually happens for 1m targets because locationID isn't used for apStar lookup\n",
    "                continue\n",
    "            smallax = fig.add_subplot(5, 5, idx+1)\n",
    "            plt.subplots_adjust(wspace=0, hspace=0)\n",
    "            if idx < 20:\n",
    "                smallax.axes.xaxis.set_ticklabels([])\n",
    "            smallax.axes.yaxis.set_ticklabels([])\n",
    "            #plt.xlim([15720, 15790])\n",
    "            if len(spec) < 8575:  # more than one visit, plot combined \"global weighting\" spectrum in orange\n",
    "                #plt.plot(apStarWavegrid()[2900:3200], spec[1][2900:3200], color='C1')\n",
    "                offset = 0\n",
    "                for visit in spec[2:]:\n",
    "                    plt.plot(apStarWavegrid()[2900:3200], visit[2900:3200] + offset, lw=1)\n",
    "                    offset += (plt.ylim()[1] - plt.ylim()[0])*0.10\n",
    "            else:  # only one visit, plot it in blue\n",
    "                plt.plot(apStarWavegrid()[2900:3200], spec[2900:3200], color='C0')\n",
    "            plt.text(15720, plt.ylim()[0] + 0.05*(plt.ylim()[1] - plt.ylim()[0]), apogee_id)\n",
    "        ax.tick_params(top='off', bottom='off', left='off', right='off')\n",
    "        ax.axes.xaxis.set_ticklabels([])\n",
    "        ax.axes.yaxis.set_ticklabels([])\n",
    "        ax.set_xlabel('Wavelength (\\AA)', labelpad=15)\n",
    "        ax.set_ylabel('Uncalibrated apStar flux', labelpad=10)\n",
    "        pdf.savefig(fig)"
   ]
  },
  {
   "cell_type": "code",
   "execution_count": null,
   "metadata": {
    "collapsed": true
   },
   "outputs": [],
   "source": []
  }
 ],
 "metadata": {
  "kernelspec": {
   "display_name": "Python 3",
   "language": "python",
   "name": "python3"
  },
  "language_info": {
   "codemirror_mode": {
    "name": "ipython",
    "version": 3
   },
   "file_extension": ".py",
   "mimetype": "text/x-python",
   "name": "python",
   "nbconvert_exporter": "python",
   "pygments_lexer": "ipython3",
   "version": "3.6.2"
  }
 },
 "nbformat": 4,
 "nbformat_minor": 2
}
