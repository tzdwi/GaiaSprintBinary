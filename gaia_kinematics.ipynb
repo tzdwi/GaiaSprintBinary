{
 "cells": [
  {
   "cell_type": "code",
   "execution_count": 1,
   "metadata": {},
   "outputs": [
    {
     "name": "stdout",
     "output_type": "stream",
     "text": [
      "Created TAP+ (v1.0.1) - Connection:\n",
      "\tHost: gea.esac.esa.int\n",
      "\tUse HTTPS: False\n",
      "\tPort: 80\n",
      "\tSSL Port: 443\n"
     ]
    }
   ],
   "source": [
    "import numpy as np\n",
    "from matplotlib import pyplot as plt\n",
    "from astropy.io import fits\n",
    "from pyia import GaiaData\n",
    "%matplotlib inline"
   ]
  },
  {
   "cell_type": "code",
   "execution_count": 4,
   "metadata": {},
   "outputs": [],
   "source": [
    "data_file = 'data/GaiaDR2_vrad_vel.fits'\n",
    "data_hdu = fits.open(data_file)\n",
    "data_table = data_hdu[1].data\n",
    "data_header = data_hdu[1].header\n",
    "source_ids = data_table['source_id']\n",
    "ras = data_table['ra']\n",
    "decs = data_table['dec']"
   ]
  },
  {
   "cell_type": "code",
   "execution_count": null,
   "metadata": {},
   "outputs": [],
   "source": [
    "sid_list = source_ids[50:].astype(str)\n",
    "q_str = \"Select phot_g_mean_mag,phot_bp_mean_mag,phot_rp_mean_mag \\\n",
    "FROM gaiadr2.gaia_source as g \\\n",
    "WHERE g.source_id IN (\"\n",
    "for sid in sid_list:\n",
    "    q_str += sid +','\n",
    "q_str = q_str[:-1]\n",
    "q_str += ')'\n",
    "foo = GaiaData.from_query(q_str)"
   ]
  },
  {
   "cell_type": "code",
   "execution_count": null,
   "metadata": {},
   "outputs": [],
   "source": [
    "foo"
   ]
  },
  {
   "cell_type": "code",
   "execution_count": null,
   "metadata": {},
   "outputs": [],
   "source": []
  }
 ],
 "metadata": {
  "kernelspec": {
   "display_name": "Python [default]",
   "language": "python",
   "name": "python3"
  },
  "language_info": {
   "codemirror_mode": {
    "name": "ipython",
    "version": 3
   },
   "file_extension": ".py",
   "mimetype": "text/x-python",
   "name": "python",
   "nbconvert_exporter": "python",
   "pygments_lexer": "ipython3",
   "version": "3.5.1"
  }
 },
 "nbformat": 4,
 "nbformat_minor": 2
}
